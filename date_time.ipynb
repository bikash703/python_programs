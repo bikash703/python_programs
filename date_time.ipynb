{
 "cells": [
  {
   "cell_type": "code",
   "execution_count": 2,
   "id": "a64746cf",
   "metadata": {},
   "outputs": [
    {
     "name": "stdout",
     "output_type": "stream",
     "text": [
      "Current Time= 20:53:50\n"
     ]
    }
   ],
   "source": [
    "from datetime import *\n",
    "now_method=datetime.now()\n",
    "currentTime = now_method.strftime(\"%H:%M:%S\")\n",
    "print('Current Time=', currentTime)"
   ]
  },
  {
   "cell_type": "code",
   "execution_count": 12,
   "id": "0a1629b3",
   "metadata": {},
   "outputs": [
    {
     "name": "stdout",
     "output_type": "stream",
     "text": [
      "INDIA time: 10:53:28\n",
      "INDIA date: 2022-02-03\n"
     ]
    }
   ],
   "source": [
    "from datetime import *\n",
    "import pytz\n",
    "time=pytz.timezone('Asia/Kolkata')\n",
    "datetime=datetime.now(time)\n",
    "date=date.today()\n",
    "print('INDIA time:', datetime.strftime(\"%H:%M:%S\"))\n",
    "print('INDIA date:',date)\n",
    "\n"
   ]
  },
  {
   "cell_type": "code",
   "execution_count": null,
   "id": "548d3f93",
   "metadata": {},
   "outputs": [],
   "source": []
  },
  {
   "cell_type": "code",
   "execution_count": null,
   "id": "2786106c",
   "metadata": {},
   "outputs": [],
   "source": []
  },
  {
   "cell_type": "code",
   "execution_count": null,
   "id": "5e139a69",
   "metadata": {},
   "outputs": [],
   "source": []
  }
 ],
 "metadata": {
  "kernelspec": {
   "display_name": "Python 3 (ipykernel)",
   "language": "python",
   "name": "python3"
  },
  "language_info": {
   "codemirror_mode": {
    "name": "ipython",
    "version": 3
   },
   "file_extension": ".py",
   "mimetype": "text/x-python",
   "name": "python",
   "nbconvert_exporter": "python",
   "pygments_lexer": "ipython3",
   "version": "3.9.7"
  }
 },
 "nbformat": 4,
 "nbformat_minor": 5
}
