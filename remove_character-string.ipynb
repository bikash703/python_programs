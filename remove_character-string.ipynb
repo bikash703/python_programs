{
 "cells": [
  {
   "cell_type": "code",
   "execution_count": 2,
   "id": "bbbbb944",
   "metadata": {},
   "outputs": [
    {
     "name": "stdout",
     "output_type": "stream",
     "text": [
      "Enter Your Word: bicky\n",
      "Enter character to remove in word: i\n",
      "bcky\n"
     ]
    }
   ],
   "source": [
    "#Remove character from string\n",
    "word=input('Enter Your Word: ')\n",
    "a=input('Enter character to remove in word: ')\n",
    "\n",
    "new_word=word.replace(a,'',1)\n",
    "print(new_word)"
   ]
  },
  {
   "cell_type": "code",
   "execution_count": 4,
   "id": "f417d36e",
   "metadata": {},
   "outputs": [
    {
     "name": "stdout",
     "output_type": "stream",
     "text": [
      "Enter Your Word: bicky\n",
      "Enter character to remove in word: k\n",
      "bicy\n"
     ]
    }
   ],
   "source": [
    "def replace1(word,a):\n",
    "    new_word=word.replace(a,'',1)\n",
    "    return new_word\n",
    "word=input('Enter Your Word: ')\n",
    "a=input('Enter character to remove in word: ')\n",
    "print(replace1(word,a))\n",
    "\n",
    "    "
   ]
  },
  {
   "cell_type": "code",
   "execution_count": null,
   "id": "9c210c27",
   "metadata": {},
   "outputs": [],
   "source": []
  }
 ],
 "metadata": {
  "kernelspec": {
   "display_name": "Python 3 (ipykernel)",
   "language": "python",
   "name": "python3"
  },
  "language_info": {
   "codemirror_mode": {
    "name": "ipython",
    "version": 3
   },
   "file_extension": ".py",
   "mimetype": "text/x-python",
   "name": "python",
   "nbconvert_exporter": "python",
   "pygments_lexer": "ipython3",
   "version": "3.9.7"
  }
 },
 "nbformat": 4,
 "nbformat_minor": 5
}
