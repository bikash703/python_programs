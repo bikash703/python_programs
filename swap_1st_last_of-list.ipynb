{
 "cells": [
  {
   "cell_type": "code",
   "execution_count": 4,
   "id": "4c75633f",
   "metadata": {},
   "outputs": [
    {
     "name": "stdout",
     "output_type": "stream",
     "text": [
      "[4, 2, 3, 6, 7, 3, 1]\n"
     ]
    }
   ],
   "source": [
    "#swap 1st and last index of list\n",
    "l=[1,2,3,6,7,3,4]\n",
    "length=len(l)\n",
    "temp=l[0]\n",
    "l[0]=l[length-1]\n",
    "l[length-1]=temp\n",
    "\n",
    "print(l)"
   ]
  },
  {
   "cell_type": "code",
   "execution_count": 6,
   "id": "9e53efaa",
   "metadata": {},
   "outputs": [
    {
     "name": "stdout",
     "output_type": "stream",
     "text": [
      "[9, 6, 2, 1, 8, 4]\n"
     ]
    }
   ],
   "source": [
    "#in function\n",
    "def swap(list):\n",
    "    length = len(list)\n",
    "    \n",
    "    temp = list[0]\n",
    "    list[0] = list[length-1]\n",
    "    list[length-1] = temp\n",
    "    \n",
    "    return list\n",
    "list=[4, 6, 2 , 1, 8, 9]\n",
    "print(swap(list))\n",
    "    "
   ]
  },
  {
   "cell_type": "code",
   "execution_count": 8,
   "id": "b871598f",
   "metadata": {},
   "outputs": [
    {
     "name": "stdout",
     "output_type": "stream",
     "text": [
      "[2, 5, 6, 4, 3, 1]\n"
     ]
    }
   ],
   "source": [
    "#Other shortcut method\n",
    "def swap(list):\n",
    "#     l=len(list)\n",
    "    \n",
    "    list[0],list[-1] = list[-1],list[0] #list[-1] print end of the index of the list\n",
    "    return list\n",
    "list=[1,5,6,4,3,2]\n",
    "print(swap(list))"
   ]
  },
  {
   "cell_type": "code",
   "execution_count": 9,
   "id": "7e8ef2c6",
   "metadata": {},
   "outputs": [
    {
     "name": "stdout",
     "output_type": "stream",
     "text": [
      "[7, 2, 4, 5, 6, 3]\n"
     ]
    }
   ],
   "source": [
    "# other method\n",
    "def swap(list):\n",
    "    get = list[-1],list[0]\n",
    "    \n",
    "    list[0],list[-1] = get\n",
    "    \n",
    "    return list\n",
    "list=[3,2,4,5,6,7]\n",
    "print(swap(list))"
   ]
  },
  {
   "cell_type": "code",
   "execution_count": 14,
   "id": "6f973347",
   "metadata": {},
   "outputs": [
    {
     "name": "stdout",
     "output_type": "stream",
     "text": [
      "1\n",
      "[2, 3]\n",
      "4\n",
      "[1, 2, 3, 4]\n"
     ]
    }
   ],
   "source": [
    "# *Operand method\n",
    "list=[1,2,3,4]\n",
    "a, *b, c = list   # *operand create list between 1st and last index of list\n",
    "print(a)\n",
    "print(b)\n",
    "print(c)\n",
    "print(list)"
   ]
  },
  {
   "cell_type": "code",
   "execution_count": 18,
   "id": "b85f9e17",
   "metadata": {},
   "outputs": [
    {
     "name": "stdout",
     "output_type": "stream",
     "text": [
      "[5, 2, 3, 4, 1]\n"
     ]
    }
   ],
   "source": [
    "#other method\n",
    "def swap(list):\n",
    "    start, *middle, end = list\n",
    "    \n",
    "#     list = end, *middle, start  #it print tuple \n",
    "    list = [end, *middle, start]\n",
    "    \n",
    "    return list\n",
    "\n",
    "list=[1,2,3,4,5]\n",
    "print(swap(list))"
   ]
  },
  {
   "cell_type": "code",
   "execution_count": null,
   "id": "7da7e901",
   "metadata": {},
   "outputs": [],
   "source": []
  }
 ],
 "metadata": {
  "kernelspec": {
   "display_name": "Python 3 (ipykernel)",
   "language": "python",
   "name": "python3"
  },
  "language_info": {
   "codemirror_mode": {
    "name": "ipython",
    "version": 3
   },
   "file_extension": ".py",
   "mimetype": "text/x-python",
   "name": "python",
   "nbconvert_exporter": "python",
   "pygments_lexer": "ipython3",
   "version": "3.9.7"
  }
 },
 "nbformat": 4,
 "nbformat_minor": 5
}
