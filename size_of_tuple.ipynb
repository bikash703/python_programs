{
 "cells": [
  {
   "cell_type": "code",
   "execution_count": 8,
   "id": "c9b2c6fe",
   "metadata": {},
   "outputs": [
    {
     "name": "stdout",
     "output_type": "stream",
     "text": [
      "the size of tuple is 40 bytes\n"
     ]
    }
   ],
   "source": [
    "#find size of a tuple\n",
    "#using getsizeof() function\n",
    "import sys\n",
    "tuple=('Bicky',420,569,9.65,['b',(4,5),'8'])\n",
    "size=sys.getsizeof(tuple)\n",
    "# print('The size of the tuple is '+ str(sys.getsizeof(tuple)) + 'bytes')\n",
    "print(f'the size of tuple is {size} bytes')"
   ]
  },
  {
   "cell_type": "code",
   "execution_count": null,
   "id": "60f4b1e6",
   "metadata": {},
   "outputs": [],
   "source": []
  },
  {
   "cell_type": "code",
   "execution_count": null,
   "id": "05522446",
   "metadata": {},
   "outputs": [],
   "source": []
  },
  {
   "cell_type": "code",
   "execution_count": null,
   "id": "f71bf023",
   "metadata": {},
   "outputs": [],
   "source": []
  }
 ],
 "metadata": {
  "kernelspec": {
   "display_name": "Python 3 (ipykernel)",
   "language": "python",
   "name": "python3"
  },
  "language_info": {
   "codemirror_mode": {
    "name": "ipython",
    "version": 3
   },
   "file_extension": ".py",
   "mimetype": "text/x-python",
   "name": "python",
   "nbconvert_exporter": "python",
   "pygments_lexer": "ipython3",
   "version": "3.9.7"
  }
 },
 "nbformat": 4,
 "nbformat_minor": 5
}
