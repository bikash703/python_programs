{
 "cells": [
  {
   "cell_type": "code",
   "execution_count": 1,
   "id": "c904d446",
   "metadata": {},
   "outputs": [
    {
     "name": "stdout",
     "output_type": "stream",
     "text": [
      "(a, b)\n"
     ]
    }
   ],
   "source": [
    "#how to get list of parameters name from a function\n",
    "def sum(a,b):\n",
    "    return a+b\n",
    "import inspect   #inspect module gives parameters name, This module written as inspect.signature \n",
    "print(inspect.signature(sum))  #use signature"
   ]
  },
  {
   "cell_type": "code",
   "execution_count": 2,
   "id": "e8e39060",
   "metadata": {},
   "outputs": [
    {
     "name": "stdout",
     "output_type": "stream",
     "text": [
      "(obj, /)\n"
     ]
    }
   ],
   "source": [
    "import inspect\n",
    "print(inspect.signature(len))"
   ]
  },
  {
   "cell_type": "code",
   "execution_count": 3,
   "id": "af87ad7c",
   "metadata": {},
   "outputs": [
    {
     "name": "stdout",
     "output_type": "stream",
     "text": [
      "Hii,\n",
      "Good Morning Bikash, 50\n"
     ]
    }
   ],
   "source": [
    "#How to get multiple arguments\n",
    "def greet(name,num):\n",
    "    print(f'Hii,\\nGood Morning {name}, {num}')\n",
    "greet('Bikash',50)"
   ]
  },
  {
   "cell_type": "code",
   "execution_count": 6,
   "id": "0a9a1b8e",
   "metadata": {},
   "outputs": [
    {
     "data": {
      "text/plain": [
       "125"
      ]
     },
     "execution_count": 6,
     "metadata": {},
     "output_type": "execute_result"
    }
   ],
   "source": [
    "#find power of a number using Recursion\n",
    "def power(n,p):\n",
    "    if p==0:\n",
    "        return 1\n",
    "    elif p==1:\n",
    "        return n\n",
    "    else:\n",
    "        return n**p\n",
    "n=5\n",
    "p=3\n",
    "def power_recursion(n,p):\n",
    "    return n*(power(n,p-1))\n",
    "power_recursion(n,p)\n",
    "\n",
    "\n",
    "    "
   ]
  },
  {
   "cell_type": "code",
   "execution_count": 14,
   "id": "935cdf7a",
   "metadata": {},
   "outputs": [
    {
     "data": {
      "text/plain": [
       "1"
      ]
     },
     "execution_count": 14,
     "metadata": {},
     "output_type": "execute_result"
    }
   ],
   "source": [
    "#find factorial of a number \n",
    "def factorial(n):\n",
    "    product=1\n",
    "    for i in range(n):\n",
    "        product=product * (i+1)\n",
    "    return product\n",
    "def factorial_recursion(n):\n",
    "    if n==0:\n",
    "        return 1\n",
    "    else:\n",
    "        return n * factorial(n-1) \n",
    "factorial_recursion(1)"
   ]
  },
  {
   "cell_type": "code",
   "execution_count": null,
   "id": "7430c015",
   "metadata": {},
   "outputs": [],
   "source": []
  },
  {
   "cell_type": "code",
   "execution_count": null,
   "id": "ffa244d6",
   "metadata": {},
   "outputs": [],
   "source": []
  }
 ],
 "metadata": {
  "kernelspec": {
   "display_name": "Python 3 (ipykernel)",
   "language": "python",
   "name": "python3"
  },
  "language_info": {
   "codemirror_mode": {
    "name": "ipython",
    "version": 3
   },
   "file_extension": ".py",
   "mimetype": "text/x-python",
   "name": "python",
   "nbconvert_exporter": "python",
   "pygments_lexer": "ipython3",
   "version": "3.9.7"
  }
 },
 "nbformat": 4,
 "nbformat_minor": 5
}
